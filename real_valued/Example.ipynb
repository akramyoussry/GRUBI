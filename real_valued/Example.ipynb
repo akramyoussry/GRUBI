{
 "cells": [
  {
   "cell_type": "code",
   "execution_count": null,
   "metadata": {},
   "outputs": [],
   "source": [
    "from ipywidgets import widgets\n",
    "import matplotlib.pyplot as plt\n",
    "%matplotlib notebook\n",
    "import numpy as np\n",
    "from scipy.linalg import logm,expm\n",
    "from simulator import FourElectrodeArraySimulator\n",
    "from dataset import create_dataset,load_dataset\n",
    "from mlmodel import MLmodel"
   ]
  },
  {
   "cell_type": "markdown",
   "metadata": {},
   "source": [
    "<H2> Step 1: Construct the training dataset </H2>"
   ]
  },
  {
   "cell_type": "code",
   "execution_count": null,
   "metadata": {},
   "outputs": [],
   "source": [
    "# define the simulation parameters\n",
    "num_wg     = 3\n",
    "length     = 3.6e-2\n",
    "n0         = 2.1753\n",
    "delta_n    = 5e-6                \n",
    "c0         = 100.\n",
    "delta_c1   = 1.5\n",
    "delta_c2   = -1.3 \n",
    "wavelength = 808.e-9\n",
    "\n",
    "circuit_params = [70, 70, 700, 700, 30e3, 100e3, 10e-6, 25e-6]\n",
    "coupling_coeff = [0.9,0.8,0.5]\n",
    "\n",
    "# define the time domain to be from t=0 to t=500 milliseconds\n",
    "start_time = 0\n",
    "end_time   = 200\n",
    "Ts         = 0.2\n",
    "time_range = np.arange(start_time,end_time,Ts)*(1e-3)\n",
    "num_points = time_range.size\n",
    "\n",
    "# define the simulator which will generate the traning set\n",
    "rwa_simulator = FourElectrodeArraySimulator(num_wg, coupling_coeff=coupling_coeff, n0=n0, delta_n=delta_n, c0=c0,\n",
    "                  delta_c1=delta_c1, delta_c2=delta_c2, wavelength=wavelength, circuit_params=circuit_params)\n",
    "\n",
    "# define the dataset information\n",
    "dataset_filename      = \"dataset.npz\"\n",
    "num_training_examples = 3500\n",
    "num_testing_examples  = 500\n",
    "num_examples          = [num_training_examples,num_testing_examples]\n",
    "seed                  = 30 # for reproducability\n",
    "description           = \"set of %d training and %d testing pulses of random amplitudes, widths, and shifts, with seed=%d, circuit parameters=%s, and  coupling coefficients= %s. Pulses across different electrodes start and end at the same time.\"%(num_training_examples,num_testing_examples,seed,str(circuit_params), str(coupling_coeff)) "
   ]
  },
  {
   "cell_type": "code",
   "execution_count": null,
   "metadata": {},
   "outputs": [],
   "source": [
    "# create a new dataset and save it externally [verbose = 1 to show the progress of the generation]\n",
    "# SKIP THIS STEP IF ALREADY GENERATED THE DATASET\n",
    "create_dataset(dataset_filename, description, num_examples, rwa_simulator, time_range, seed, verbose = 1)"
   ]
  },
  {
   "cell_type": "code",
   "execution_count": null,
   "metadata": {},
   "outputs": [],
   "source": [
    "# load the created dataset\n",
    "training_x,training_y, testing_x, testing_y,  zero_voltage_measurements, time_range = load_dataset(dataset_filename)"
   ]
  },
  {
   "cell_type": "markdown",
   "metadata": {},
   "source": [
    "<H2> Step 2: Train the machine learning model to learn the dynamics of the chip </H2>"
   ]
  },
  {
   "cell_type": "code",
   "execution_count": null,
   "metadata": {},
   "outputs": [],
   "source": [
    "# a) define the model\n",
    "model = MLmodel(num_wg, length)\n",
    "model_filename = \"model_22_5_2019\" # for importing/exporting the model externally"
   ]
  },
  {
   "cell_type": "code",
   "execution_count": null,
   "metadata": {},
   "outputs": [],
   "source": [
    "# b) calibrate the zero-voltage parameters & coupling coefficients (Skip steps 2b, 2c if already trained and loading from file)    \n",
    "zero_voltage_parameters = model.callibrate_zero_voltage(zero_voltage_measurements)"
   ]
  },
  {
   "cell_type": "code",
   "execution_count": null,
   "metadata": {},
   "outputs": [],
   "source": [
    "# c) train the model with the training set\n",
    "num_iter = 10000\n",
    "model.train_model(training_x, training_y, num_iter)"
   ]
  },
  {
   "cell_type": "code",
   "execution_count": null,
   "metadata": {},
   "outputs": [],
   "source": [
    "# or if we already trained it and saved the file, then we can load the trained model\n",
    "model.load_model(model_filename)"
   ]
  },
  {
   "cell_type": "code",
   "execution_count": null,
   "metadata": {},
   "outputs": [],
   "source": [
    "# d) plot the training history\n",
    "plt.figure(figsize=[4.8, 3.8])\n",
    "plt.loglog(range(10000),model.training_history['loss'])\n",
    "plt.xlabel('Iteration', fontsize=11)\n",
    "plt.ylabel('MSE',fontsize=11)\n",
    "plt.xscale('log')\n",
    "plt.xticks(sum([[i*j for i in range(1,11)] for j in [1,10,100,1000]],[]),fontsize=11)\n",
    "plt.yticks(fontsize=11)\n",
    "plt.grid(True, which=\"both\")\n",
    "plt.savefig('model_training.pdf', bbox_inches='tight')"
   ]
  },
  {
   "cell_type": "code",
   "execution_count": null,
   "metadata": {},
   "outputs": [],
   "source": [
    "# display MSE for the testing dataset\n",
    "print( \"%e\"%model.model.evaluate(testing_x, testing_y, batch_size=num_testing_examples)[0] )"
   ]
  },
  {
   "cell_type": "code",
   "execution_count": null,
   "metadata": {},
   "outputs": [],
   "source": [
    "# display the zero-voltage Hamiltonian\n",
    "print(model.predict_zero_voltage_Hamiltonian())"
   ]
  },
  {
   "cell_type": "code",
   "execution_count": null,
   "metadata": {},
   "outputs": [],
   "source": [
    "# e) make a user interactive cell to view the results on the testing dataset \n",
    "\n",
    "# use the model to predict power distribution and chip response from the training dataset\n",
    "predicted_wg_power_training     = [model.predict_measured_wg_power(training_x, idx_wg) for idx_wg in range(num_wg)]\n",
    "\n",
    "# use the model to predict power distribution and chip response from the testing dataset\n",
    "predicted_wg_power_testing      = [model.predict_measured_wg_power(testing_x,  idx_wg) for idx_wg in range(num_wg)]"
   ]
  },
  {
   "cell_type": "code",
   "execution_count": null,
   "metadata": {},
   "outputs": [],
   "source": [
    "# define a function to display a particular example      \n",
    "def update_display(Dataset, input_waveguide, idx_example):\n",
    "    if(Dataset==\"Training\"):\n",
    "        plt1 = training_x[idx_example,:]\n",
    "        plt2 = training_y[input_waveguide][idx_example,:]\n",
    "        plt3 = predicted_wg_power_training[input_waveguide][idx_example,:]\n",
    "    else:\n",
    "        plt1 = testing_x[idx_example,:]\n",
    "        plt2 = testing_y[input_waveguide][idx_example,:]\n",
    "        plt3 = predicted_wg_power_testing[input_waveguide][idx_example,:] \n",
    "    \n",
    "    plt.figure(figsize=[8, 3*num_wg])\n",
    "    for idx_wg in range(num_wg):\n",
    "        plt.subplot(num_wg,2,idx_wg*2 +2)\n",
    "        plt.plot(time_range,plt2[:,idx_wg], label = \"actual\")\n",
    "        plt.plot(time_range,plt3[:,idx_wg], label = \"predicted\")\n",
    "        plt.ylim([-0.1,1.1])\n",
    "        plt.xlabel('t',fontsize=11)\n",
    "        plt.xticks(fontsize=11)\n",
    "        plt.ylabel(\"$P_%d(t)$\"%idx_wg,fontsize=11)\n",
    "        plt.yticks(fontsize=11)\n",
    "        plt.grid()\n",
    "        plt.legend(fontsize=11)\n",
    "            \n",
    "        # plot the potential difference across each waveguide\n",
    "        plt.subplot(num_wg,2,idx_wg*2 +1)       \n",
    "        plt.plot(time_range, plt1[:,idx_wg*2],'r',   label = \"$V_%d(t)$\"%(idx_wg*2))\n",
    "        plt.plot(time_range, plt1[:,idx_wg*2 +1],'k',label = \"$V_%d(t)$\"%(idx_wg*2 +1))\n",
    "        plt.xlabel('t',fontsize=11)\n",
    "        plt.ylabel(\"$V(t)$\",fontsize=11)\n",
    "        plt.ylim([-5,5])\n",
    "        plt.grid()\n",
    "        plt.legend(fontsize=11)\n",
    "    plt.tight_layout()\n",
    "    plt.savefig('ex_%d_%d.pdf'%(idx_example, input_waveguide),format='pdf', bbox_inches='tight')\n",
    "    \n",
    "# add a widget for selecting the example\n",
    "# widgets.interact(update_display, Dataset={'Testing','Training'}, input_waveguide=widgets.Dropdown(options=[idx_wg for idx_wg in range(num_wg)]), idx_example=widgets.IntSlider(min=0,max=testing_x.shape[0]-1,step=1, continuous_update=False) )\n",
    "# or display an example directly \n",
    "update_display(\"Testing\",0,0)\n",
    "update_display(\"Testing\",2,381)\n",
    "update_display(\"Testing\",1,470)\n"
   ]
  },
  {
   "cell_type": "markdown",
   "metadata": {},
   "source": [
    "<H2> Step 3: Estimate the control voltage to achieve some standard gates </H2>"
   ]
  },
  {
   "cell_type": "code",
   "execution_count": null,
   "metadata": {},
   "outputs": [],
   "source": [
    "# Define some quantum gates we might want to implement\n",
    "\n",
    "# Identity gate: [removes intrinsic coupling between waveguides]\n",
    "U_Identity      = np.eye(3)\n",
    "# Permutation gate [swap waveguide 1 and 2] \n",
    "U_Permutation12 = np.array([[0,1,0],[1,0,0],[0,0,1]]) \n",
    "# Permutation gate [swap waveguide 2 and 3] \n",
    "U_Permutation23 = np.array([[1,0,0],[0,0,1],[0,1,0]])\n",
    "# Permutation gate [swap waveguide 1 and 3] \n",
    "U_Permutation13 = np.array([[0,0,1],[0,1,0],[1,0,0]])\n",
    "# Hadamard gate [split power between waveguide 1 and 2] \n",
    "U_Hadamard_12   = np.array([[1/np.sqrt(2),1/np.sqrt(2),0],[1/np.sqrt(2),-1/np.sqrt(2),0],[0,0,1]])\n",
    "# Hadamard gate [split power between waveguide 2 and 3] \n",
    "U_Hadamard_23   = np.array([[1,0,0],[0,1/np.sqrt(2),1/np.sqrt(2)],[0,1/np.sqrt(2),-1/np.sqrt(2)]])\n",
    "# Hadamard gate [split power between waveguide 1 and 3] \n",
    "U_Hadamard_13   = np.array([[1/np.sqrt(2),0,1/np.sqrt(2)],[0,1,0],[1/np.sqrt(2),0,-1/np.sqrt(2)]])\n",
    "\n",
    "# group all gates in one list\n",
    "Gate_List = [U_Identity, U_Permutation12, U_Permutation23, U_Permutation13, U_Hadamard_12, U_Hadamard_23, U_Hadamard_13]\n",
    "print(*Gate_List,sep='\\n')\n",
    "\n",
    "# calculate the corresponding Hamiltonians and group them in a list\n",
    "Hamiltonian_List = [np.real_if_close(1j*logm(x))/length for x in Gate_List]\n",
    "print(*Hamiltonian_List,sep='\\n')"
   ]
  },
  {
   "cell_type": "code",
   "execution_count": null,
   "metadata": {},
   "outputs": [],
   "source": [
    "# define the time domain to be from t=0 to t=500 milliseconds\n",
    "start_time = 0\n",
    "end_time   = 300\n",
    "Ts         = 0.2\n",
    "time_range_control = np.arange(start_time,end_time,Ts)*(1e-3)\n",
    "num_points = time_range_control.size\n",
    "\n",
    "# define the desired switch sequence\n",
    "sequence = [( [0,     50e-3], 0, \"$I$\"), # identity\n",
    "            ( [50e-3, 80e-3], 3, \"$X_{13}$\"), # permutation13\n",
    "            ( [80e-3, 110e-3],0, \"$I$\"), # identity\n",
    "            ( [110e-3,140e-3],6, \"$H_{13}$\"), # Hadamard13\n",
    "            ( [140e-3,170e-3],0, \"$I$\"), # identity\n",
    "            ( [170e-3,200e-3],1, \"$X_{12}$\"), # permutation12\n",
    "            ( [200e-3,250e-3],0, \"$I$\"), # identity\n",
    "            ( [250e-3,280e-3],6, \"$H_{13}$\"), # Hadamard13\n",
    "            ( [280e-3,300e-3],0, \"$I$\")  # identity\n",
    "           ]\n",
    "# construct Hamiltonian sequence\n",
    "t  = np.reshape(time_range_control, (1,num_points,1,1))\n",
    "Hamiltonian_sequence = sum( [np.kron( (t>=transition[0][0])*(t<transition[0][1]), Hamiltonian_List[transition[1]] ) for transition in sequence] )\n",
    "\n",
    "# construct power distribution sequence\n",
    "t  = np.reshape(time_range_control, (1,num_points,1))\n",
    "powers_sequence = [sum([np.kron( (t>=transition[0][0])*(t<transition[0][1]), np.abs(Gate_List[transition[1]][:,idx_wg])**2 ) for transition in sequence]) for idx_wg in range(num_wg)]"
   ]
  },
  {
   "cell_type": "code",
   "execution_count": null,
   "metadata": {},
   "outputs": [],
   "source": [
    "# a) construct the control model (skip steps 3a,3b,3c if we did the training before and just importing the model file)\n",
    "model.construct_controller()"
   ]
  },
  {
   "cell_type": "code",
   "execution_count": null,
   "metadata": {},
   "outputs": [],
   "source": [
    "# b) do the training \n",
    "num_iterations = 500\n",
    "model.train_controller(Hamiltonian_sequence, powers_sequence, num_iterations)"
   ]
  },
  {
   "cell_type": "code",
   "execution_count": null,
   "metadata": {},
   "outputs": [],
   "source": [
    "# c) save the whole model\n",
    "model.save_model(model_filename)"
   ]
  },
  {
   "cell_type": "code",
   "execution_count": null,
   "metadata": {},
   "outputs": [],
   "source": [
    "# d) plot the training history\n",
    "plt.figure(figsize=[4.8, 3.8])\n",
    "plt.loglog(model.control_training_history['loss'])\n",
    "plt.xlabel('Iteration', fontsize=11)\n",
    "plt.ylabel('MSE',fontsize=11)\n",
    "plt.xscale('log')\n",
    "plt.xticks(sum([[i*j for i in range(1,11)] for j in [1,10,100]],[]),fontsize=11)\n",
    "plt.yscale('log')\n",
    "plt.yticks(sum([[i*j for i in range(1,11)] for j in [0.01,0.1]],[]),fontsize=11)\n",
    "plt.grid(True, which=\"both\")\n",
    "plt.savefig('controller_training.pdf',format='pdf', bbox_inches='tight')"
   ]
  },
  {
   "cell_type": "code",
   "execution_count": null,
   "metadata": {},
   "outputs": [],
   "source": [
    "# e) plot the controlled waveguide power distribution\n",
    "for idx_wg in range(num_wg): # loop over input waveguide\n",
    "    plt.figure(figsize=[7, 2.5*num_wg])\n",
    "    test_power = model.predict_controlled_wg_power(Hamiltonian_sequence, idx_wg)\n",
    "    for idx_wg2 in range(num_wg): # loop over the distribution\n",
    "        plt.subplot(3,1,idx_wg2+1)\n",
    "        plt.plot(time_range_control, powers_sequence[idx_wg][0,:][:,idx_wg2], label='ideal')\n",
    "        plt.plot(time_range_control, test_power[0,:,idx_wg2], '--', label='controlled')\n",
    "        plt.ylim([-0.1,1.5])\n",
    "        plt.xlabel('t',fontsize=11)\n",
    "        plt.ylabel(\"$P_%d(t)$\"%idx_wg2, fontsize=11)\n",
    "        plt.xticks([transition[0][0]for transition in sequence]+[sequence[-1][0][1]], fontsize=11)\n",
    "        plt.yticks(fontsize=11)\n",
    "        plt.grid(True, which=\"both\")\n",
    "        for transition in sequence:\n",
    "            plt.arrow(transition[0][0],1.25,transition[0][1]-transition[0][0],0, length_includes_head=True,head_width=0.025, head_length=2.5e-3,color=\"red\")\n",
    "            plt.arrow(transition[0][1],1.25,transition[0][0]-transition[0][1],0, length_includes_head=True,head_width=0.025, head_length=2.5e-3,color=\"red\")\n",
    "            plt.text(0.5*(transition[0][0] + transition[0][1]), 1.25, transition[2], fontsize=11,horizontalalignment='center',verticalalignment='center',bbox=dict(facecolor='white',edgecolor='red'))\n",
    "        plt.legend(ncol=1, fontsize=11, loc=\"center left\")\n",
    "    plt.tight_layout()  \n",
    "    plt.savefig('controller_powers_%d.pdf'%idx_wg,format='pdf', bbox_inches='tight')"
   ]
  },
  {
   "cell_type": "code",
   "execution_count": null,
   "metadata": {},
   "outputs": [],
   "source": [
    "# f) plot the control voltage\n",
    "control_voltage = model.predict_control_voltage(Hamiltonian_sequence)[0,:]\n",
    "plt.figure(figsize=[9,4*num_wg])\n",
    "for idx_electrode in range(num_wg*2):\n",
    "    # plot the potential difference across each waveguide\n",
    "    plt.subplot(2*num_wg,1,idx_electrode+1)       \n",
    "    plt.plot(time_range_control, control_voltage[:,idx_electrode])\n",
    "    plt.ylim([-6,7])\n",
    "    plt.xlabel('t',fontsize=11)\n",
    "    plt.ylabel(\"$V_%s(t)$\"%idx_electrode, fontsize=11)\n",
    "    plt.xticks([transition[0][0]for transition in sequence]+[sequence[-1][0][1]], fontsize=11)\n",
    "    plt.yticks(np.arange(-5,6,2.5),fontsize=11)\n",
    "    for transition in sequence:\n",
    "        plt.arrow(transition[0][0],5,transition[0][1]-transition[0][0],0, length_includes_head=True,head_width=0.25, head_length=2.5e-3,color=\"red\")\n",
    "        plt.arrow(transition[0][1],5,transition[0][0]-transition[0][1],0, length_includes_head=True,head_width=0.25, head_length=2.5e-3,color=\"red\")\n",
    "        plt.text(0.5*(transition[0][0] + transition[0][1]), 5, transition[2], fontsize=11,horizontalalignment='center',verticalalignment='center',bbox=dict(facecolor='white',edgecolor='red'))\n",
    "    plt.grid()\n",
    "plt.tight_layout()\n",
    "plt.savefig('controller_voltages.pdf', format='pdf', bbox_inches='tight')"
   ]
  },
  {
   "cell_type": "code",
   "execution_count": null,
   "metadata": {},
   "outputs": [],
   "source": []
  }
 ],
 "metadata": {
  "kernelspec": {
   "display_name": "Python 3",
   "language": "python",
   "name": "python3"
  },
  "language_info": {
   "codemirror_mode": {
    "name": "ipython",
    "version": 3
   },
   "file_extension": ".py",
   "mimetype": "text/x-python",
   "name": "python",
   "nbconvert_exporter": "python",
   "pygments_lexer": "ipython3",
   "version": "3.6.9"
  }
 },
 "nbformat": 4,
 "nbformat_minor": 2
}
