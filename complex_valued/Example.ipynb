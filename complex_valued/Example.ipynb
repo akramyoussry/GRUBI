{
 "cells": [
  {
   "cell_type": "code",
   "execution_count": null,
   "metadata": {},
   "outputs": [],
   "source": [
    "from ipywidgets import widgets\n",
    "import matplotlib.pyplot as plt\n",
    "%matplotlib notebook\n",
    "import numpy as np\n",
    "from scipy.linalg import logm,expm,block_diag\n",
    "from itertools import accumulate\n",
    "from simulator import FourElectrodeArraySimulator\n",
    "from dataset import create_dataset,load_dataset\n",
    "from complexmlmodel import complexMLmodel"
   ]
  },
  {
   "cell_type": "markdown",
   "metadata": {},
   "source": [
    "<H2> Step 1: Construct the training dataset </H2>"
   ]
  },
  {
   "cell_type": "code",
   "execution_count": null,
   "metadata": {
    "collapsed": true
   },
   "outputs": [],
   "source": [
    "# define the simulation parameters\n",
    "num_wg     = 3\n",
    "length     = 3.6e-2\n",
    "n0         = 2.1753\n",
    "delta_n    = 5e-6                \n",
    "c0         = 100.\n",
    "delta_c1   = 1.5\n",
    "delta_c2   = -1.3 \n",
    "wavelength = 808.e-9\n",
    "\n",
    "circuit_params = [70, 70, 700, 700, 30e3, 100e3, 10e-6, 25e-6]\n",
    "coupling_coeff = [0.9,0.8,0.5]\n",
    "\n",
    "# define the time domain to be from t=0 to t=500 milliseconds\n",
    "start_time = 0\n",
    "end_time   = 200\n",
    "Ts         = 0.2\n",
    "time_range = np.arange(start_time,end_time,Ts)*(1e-3)\n",
    "num_points = time_range.size\n",
    "\n",
    "# define the simulator which will generate the traning set\n",
    "rwa_simulator = FourElectrodeArraySimulator(num_wg, coupling_coeff=coupling_coeff, n0=n0, delta_n=delta_n, c0=c0,\n",
    "                  delta_c1=delta_c1, delta_c2=delta_c2, wavelength=wavelength, circuit_params=circuit_params)\n",
    "\n",
    "# define the dataset information\n",
    "dataset_filename      = \"dataset_complex.npz\"\n",
    "num_training_examples = 3500\n",
    "num_testing_examples  = 500\n",
    "num_examples          = [num_training_examples,num_testing_examples]\n",
    "seed                  = 30 # for reproducability\n",
    "description           = \"set of %d training and %d testing pulses of random amplitudes, widths, and shifts, with seed=%d, circuit parameters=%s, and  coupling coefficients= %s. Pulses across different electrodes start and end at the same time.\"%(num_training_examples,num_testing_examples,seed,str(circuit_params), str(coupling_coeff)) "
   ]
  },
  {
   "cell_type": "code",
   "execution_count": null,
   "metadata": {},
   "outputs": [],
   "source": [
    "# create a new dataset and save it externally [verbose = 1 to show the progress of the generation]\n",
    "# SKIP THIS STEP IF ALREADY GENERATED THE DATASET\n",
    "create_dataset(dataset_filename, description, num_examples, rwa_simulator, time_range, seed, verbose = 1)"
   ]
  },
  {
   "cell_type": "code",
   "execution_count": null,
   "metadata": {
    "collapsed": true
   },
   "outputs": [],
   "source": [
    "# load the created dataset\n",
    "training_x,training_y, testing_x, testing_y,  zero_voltage_measurements, time_range = load_dataset(dataset_filename)"
   ]
  },
  {
   "cell_type": "markdown",
   "metadata": {},
   "source": [
    "<H2> Step 2: Train the machine learning model to learn the dynamics of the chip </H2>"
   ]
  },
  {
   "cell_type": "code",
   "execution_count": null,
   "metadata": {},
   "outputs": [],
   "source": [
    "# a) define the model\n",
    "model = complexMLmodel(num_wg, length)\n",
    "model_filename = \"model_21_6_2019\" # for importing/exporting the model externally"
   ]
  },
  {
   "cell_type": "code",
   "execution_count": null,
   "metadata": {},
   "outputs": [],
   "source": [
    "# b) calibrate the zero-voltage parameters & coupling coefficients (Skip steps 2b, 2c if already trained and loading from file)    \n",
    "zero_voltage_parameters = model.callibrate_zero_voltage(zero_voltage_measurements)"
   ]
  },
  {
   "cell_type": "code",
   "execution_count": null,
   "metadata": {},
   "outputs": [],
   "source": [
    "# c) train the model with the training set\n",
    "num_iter = 2000\n",
    "model.train_model(training_x, training_y, num_iter)"
   ]
  },
  {
   "cell_type": "code",
   "execution_count": null,
   "metadata": {},
   "outputs": [],
   "source": [
    "# or if we already trained it and saved the file, then we can load the trained model\n",
    "model.load_model(model_filename)"
   ]
  },
  {
   "cell_type": "code",
   "execution_count": null,
   "metadata": {},
   "outputs": [],
   "source": [
    "# d) plot the training history\n",
    "plt.rcParams.update({'font.size': 20})\n",
    "plt.figure(figsize=[8,6])\n",
    "plt.loglog(model.training_history['loss'])\n",
    "plt.xlabel('iteration')\n",
    "plt.ylabel('loss')\n",
    "plt.grid(True, which=\"both\")\n",
    "plt.tight_layout()\n",
    "plt.show()\n",
    "plt.savefig('model_complex_training.eps', format='eps', dpi=1000)"
   ]
  },
  {
   "cell_type": "code",
   "execution_count": null,
   "metadata": {},
   "outputs": [],
   "source": [
    "# display MSE for the training dataset\n",
    "print(\"%e\"%model.training_history['loss'][-1])"
   ]
  },
  {
   "cell_type": "code",
   "execution_count": null,
   "metadata": {},
   "outputs": [],
   "source": [
    "# display MSE for the testing dataset\n",
    "print( \"%e\"%model.model.evaluate(testing_x, testing_y, batch_size=num_testing_examples)[0] )"
   ]
  },
  {
   "cell_type": "code",
   "execution_count": null,
   "metadata": {},
   "outputs": [],
   "source": [
    "# display the zero-voltage Hamiltonian\n",
    "print(model.predict_zero_voltage_Hamiltonian())\n",
    "rwa_simulator.set_voltages(np.zeros((num_wg*2)))\n",
    "rwa_simulator.set_hamiltonian()\n",
    "print(rwa_simulator.hamiltonian)"
   ]
  },
  {
   "cell_type": "code",
   "execution_count": null,
   "metadata": {
    "collapsed": true
   },
   "outputs": [],
   "source": [
    "# e) make a user interactive cell to view the results on the testing dataset \n",
    "\n",
    "# use the model to predict power distribution and chip response from the training dataset\n",
    "predicted_wg_power_training     = [model.predict_measured_wg_power(training_x, idx_wg) for idx_wg in range(num_wg)]\n",
    "\n",
    "# use the model to predict power distribution and chip response from the testing dataset\n",
    "predicted_wg_power_testing      = [model.predict_measured_wg_power(testing_x,  idx_wg) for idx_wg in range(num_wg)]"
   ]
  },
  {
   "cell_type": "code",
   "execution_count": null,
   "metadata": {},
   "outputs": [],
   "source": [
    "# define a function to display a particular example      \n",
    "def update_display(Dataset, input_waveguide, idx_example):\n",
    "    if(Dataset==\"Training\"):\n",
    "        plt1 = training_x[idx_example,:]\n",
    "        plt2 = training_y[input_waveguide][idx_example,:]\n",
    "        plt3 = predicted_wg_power_training[input_waveguide][idx_example,:]\n",
    "    else:\n",
    "        plt1 = testing_x[idx_example,:]\n",
    "        plt2 = testing_y[input_waveguide][idx_example,:]\n",
    "        plt3 = predicted_wg_power_testing[input_waveguide][idx_example,:] \n",
    "    \n",
    "    plt.figure(figsize=[15, 4*num_wg])\n",
    "    for idx_wg in range(num_wg):            \n",
    "        # plot the potential difference across each waveguide\n",
    "        plt.subplot(num_wg,1,idx_wg +1)       \n",
    "        plt.plot(time_range, plt1[:,idx_wg*2],'r',   label = \"$V_%d(t)$\"%(idx_wg*2))\n",
    "        plt.plot(time_range, plt1[:,idx_wg*2 +1],'k',label = \"$V_%d(t)$\"%(idx_wg*2 +1))\n",
    "        plt.xlabel('t')\n",
    "        plt.ylabel(\"$V(t)$\")\n",
    "        plt.ylim([-5.1,5.1])\n",
    "        plt.grid()\n",
    "        plt.legend(ncol=2)\n",
    "        plt.tight_layout()\n",
    "     \n",
    "    plt.figure(figsize=[15, 4*num_wg])\n",
    "    for idx_wg in range(num_wg):\n",
    "        plt.subplot(num_wg,2,idx_wg*2 +2)\n",
    "        plt.plot(time_range,plt2[:,idx_wg+num_wg], label = \"actual\")\n",
    "        plt.plot(time_range,plt3[:,idx_wg+num_wg], label = \"predicted \")\n",
    "        #plt.ylim([-0.1,1.1])\n",
    "        plt.xlabel('t')\n",
    "        plt.ylabel(r\"$P_%d\\left(\\theta=\\frac{\\pi}{2}, t\\right)$\"%idx_wg)\n",
    "        plt.grid()\n",
    "        plt.legend(ncol=2)\n",
    "            \n",
    "        # plot the potential difference across each waveguide\n",
    "        plt.subplot(num_wg,2,idx_wg*2 +1)\n",
    "        plt.plot(time_range,plt2[:,idx_wg], label = \"actual\")\n",
    "        plt.plot(time_range,plt3[:,idx_wg], label = \"predicted\")\n",
    "        plt.xlabel('t')\n",
    "        plt.ylabel(r\"$P_%d(\\theta=0, t)$\"%idx_wg)\n",
    "        plt.grid()\n",
    "        plt.legend(ncol=2)\n",
    "        plt.tight_layout()\n",
    "    plt.show()\n",
    "    plt.savefig('ex_complex_%d_%d.eps'%(idx_example, input_waveguide), format='eps', dpi=1000)\n",
    "# add a widget for selecting the example\n",
    "widgets.interact(update_display, Dataset={'Testing','Training'}, input_waveguide=widgets.Dropdown(options=[idx_wg for idx_wg in range(num_wg)]), idx_example=widgets.IntSlider(min=0,max=testing_x.shape[0]-1,step=1, continuous_update=False) )"
   ]
  },
  {
   "cell_type": "code",
   "execution_count": null,
   "metadata": {},
   "outputs": [],
   "source": [
    "# e) make a user interactive cell to view the results on the testing dataset \n",
    "\n",
    "def construct_state(P):\n",
    "    state   = np.zeros((P.shape[0],P.shape[1]//2),dtype=np.complex)\n",
    "    for idx_t in range(P.shape[0]):\n",
    "        P_r = P[idx_t, 0:num_wg]\n",
    "        P_i = P[idx_t, num_wg:]\n",
    "        mag2 = 2*(P_r + P_i) - np.sqrt(-4*P_r*P_r - 4*P_i*P_i + 4*P_r + 4*P_i+ 8*P_r*P_i - 1)\n",
    "        state[idx_t,:] = 2*(P_r + 1j*P_i) - (0.5+0.5j)*(mag2+1)\n",
    "    return state\n",
    "\n",
    "def fidelity(phi,psi):\n",
    "    return np.array([np.abs(phi[t,:].conj() @ psi[t,:])**2 for t in range(phi.shape[0])])\n",
    "\n",
    "def construct_unitary(P):\n",
    "    U = np.zeros((P[0].shape[0],num_wg,num_wg), dtype=np.complex)\n",
    "    for t in range(P[0].shape[0]):\n",
    "        for idx in range(num_wg):\n",
    "            U[t,idx,:] = P[idx][t,:]\n",
    "    return U\n",
    "    \n",
    "def gate_fidelity(U,V):\n",
    "    return np.array([(np.abs(np.trace(U[t,:].conj().T @ V[t,:]))**2)/(num_wg**2) for t in range(U.shape[0])])\n",
    "\n",
    "# define a function to display a particular example      \n",
    "def update_display_2(Dataset, idx_example):\n",
    "    phi=[]\n",
    "    psi=[]\n",
    "    plt.figure()\n",
    "    \n",
    "    for idx_input_waveguide in range(num_wg):\n",
    "        \n",
    "        if(Dataset==\"Training\"):\n",
    "            plt1 = training_x[idx_example,:]\n",
    "            psi.append( construct_state(training_y[idx_input_waveguide][idx_example,:]) )\n",
    "            phi.append( construct_state(predicted_wg_power_training[idx_input_waveguide][idx_example,:]) ) \n",
    "\n",
    "        else:\n",
    "            plt1 = testing_x[idx_example,:]\n",
    "            psi.append( construct_state(testing_y[idx_input_waveguide][idx_example,:]) )\n",
    "            phi.append( construct_state(predicted_wg_power_testing[idx_input_waveguide][idx_example,:]) )\n",
    "    \n",
    "    phi = construct_unitary(phi)\n",
    "    psi = construct_unitary(psi)\n",
    "    plt2 = 1-gate_fidelity(phi,psi)\n",
    "    \n",
    "    plt.semilogy(time_range,plt2)\n",
    "    plt.xlabel('t')\n",
    "    plt.ylabel('$1-F(t)$')\n",
    "    plt.grid()   \n",
    "    plt.tight_layout()\n",
    "    plt.show()\n",
    "    plt.savefig('infidelity_complex_%d.eps'%idx_example, format='eps', dpi=1000)\n",
    "\n",
    "# add a widget for selecting the example\n",
    "widgets.interact(update_display_2, Dataset={'Testing','Training'}, idx_example=widgets.IntSlider(min=0,max=testing_x.shape[0]-1,step=1, continuous_update=False) )"
   ]
  },
  {
   "cell_type": "markdown",
   "metadata": {},
   "source": [
    "<H2> Step 3: Estimate the control voltage to achieve some standard gates </H2>"
   ]
  },
  {
   "cell_type": "code",
   "execution_count": null,
   "metadata": {},
   "outputs": [],
   "source": [
    "# Define some quantum gates we might want to implement\n",
    "\n",
    "# Identity gate: [removes intrinsic coupling between waveguides]\n",
    "U_Identity      = np.eye(3)\n",
    "# Permutation gate [swap waveguide 1 and 2] \n",
    "U_Permutation12 = np.array([[0,1,0],[1,0,0],[0,0,1]]) \n",
    "# Permutation gate [swap waveguide 2 and 3] \n",
    "U_Permutation23 = np.array([[1,0,0],[0,0,1],[0,1,0]])\n",
    "# Permutation gate [swap waveguide 1 and 3] \n",
    "U_Permutation13 = np.array([[0,0,1],[0,1,0],[1,0,0]])\n",
    "# Hadamard gate [split power between waveguide 1 and 2] \n",
    "U_Hadamard_12   = np.array([[1/np.sqrt(2),1/np.sqrt(2),0],[1/np.sqrt(2),-1/np.sqrt(2),0],[0,0,1]])\n",
    "# Hadamard gate [split power between waveguide 2 and 3] \n",
    "U_Hadamard_23   = np.array([[1,0,0],[0,1/np.sqrt(2),1/np.sqrt(2)],[0,1/np.sqrt(2),-1/np.sqrt(2)]])\n",
    "# Hadamard gate [split power between waveguide 1 and 3] \n",
    "U_Hadamard_13   = np.array([[1/np.sqrt(2),0,1/np.sqrt(2)],[0,1,0],[1/np.sqrt(2),0,-1/np.sqrt(2)]])\n",
    "# Rotation pi/4 about x between 1 and 3\n",
    "U_X_pi_4        = expm(-1j*0.25*np.pi*U_Permutation13)\n",
    "# Z gate between 1 and 3\n",
    "U_Z13           = np.array([[1,0,0],[0,1,0],[0,0,-1]])\n",
    "# Rotation pi/4 about z between 1 and 3\n",
    "U_Z_pi_4        = expm(-1j*0.25*np.pi*U_Z13)\n",
    "# Rotation pi/4 about z between 1 and 3\n",
    "U_Z_pi_2        = expm(-1j*0.5*np.pi*U_Z13)\n",
    "# Rotation pi/4 about z between 1 and 3\n",
    "U_Z_pi          = expm(-1j*np.pi*U_Z13)\n",
    "# Rotation 0.1 about z between q and 3 \n",
    "U_HP            = expm(-1j*0.1*U_Z13)\n",
    "\n",
    "# group all gates in one list\n",
    "Gate_List = [U_Identity, U_Permutation12, U_Permutation23, U_Permutation13, U_Hadamard_12, U_Hadamard_23, U_Hadamard_13, U_X_pi_4, U_Z13, U_Z_pi_4, U_Z_pi_2, U_Z_pi, U_HP]\n",
    "print(*Gate_List,sep='\\n')\n",
    "\n",
    "# calculate the corresponding Hamiltonians and group them in a list\n",
    "Hamiltonian_List = [np.real_if_close(1j*logm(x))/length for x in Gate_List]\n",
    "print(*Hamiltonian_List,sep='\\n')"
   ]
  },
  {
   "cell_type": "code",
   "execution_count": null,
   "metadata": {
    "collapsed": true
   },
   "outputs": [],
   "source": [
    "# define the time domain to be from t=0 to t=500 milliseconds\n",
    "start_time = 0\n",
    "end_time   = 280\n",
    "Ts         = 0.2\n",
    "time_range_control = np.arange(start_time,end_time,Ts)*(1e-3)\n",
    "num_points = time_range.size\n",
    "\n",
    "# define the desired switch sequence\n",
    "sequence = [( [0,     50e-3], 0), # identity\n",
    "            ( [50e-3, 90e-3], 3), # permutation13\n",
    "            ( [90e-3, 130e-3],0), # identity\n",
    "            ( [130e-3,170e-3],6), # Hadamard13\n",
    "            ( [170e-3,210e-3],0), # identity\n",
    "            ( [210e-3,250e-3],12),# Rot Z 0.1\n",
    "            ( [250e-3,280e-3],0), # identity\n",
    "            #( [250e-3,280e-3],11),# Rot Z pi\n",
    "            #( [280e-3,300e-3],0)  # identity\n",
    "           ]\n",
    "# construct Hamiltonian sequence\n",
    "t  = np.reshape(time_range_control, (1,num_points,1,1))\n",
    "Hamiltonian_sequence = sum( [np.kron( (t>=transition[0][0])*(t<transition[0][1]), Hamiltonian_List[transition[1]] ) for transition in sequence] )\n",
    "\n",
    "# construct power distribution sequence\n",
    "t  = np.reshape(time_range_control, (1,num_points,1))\n",
    "powers_sequence = [sum([np.kron( (t>=transition[0][0])*(t<transition[0][1]), np.concatenate((np.abs(0.5*(Gate_List[transition[1]][:,idx_wg]+1))**2,np.abs(0.5*(Gate_List[transition[1]][:,idx_wg]+1j))**2),-1)  ) for transition in sequence]) for idx_wg in range(num_wg)]"
   ]
  },
  {
   "cell_type": "code",
   "execution_count": null,
   "metadata": {},
   "outputs": [],
   "source": [
    "# a) construct the control model (skip steps 3a,3b,3c if we did the training before and just importing the model file)\n",
    "model.construct_controller()"
   ]
  },
  {
   "cell_type": "code",
   "execution_count": null,
   "metadata": {},
   "outputs": [],
   "source": [
    "# b) do the training \n",
    "num_iterations = 1000\n",
    "model.train_controller(Hamiltonian_sequence, powers_sequence, num_iterations)"
   ]
  },
  {
   "cell_type": "code",
   "execution_count": null,
   "metadata": {
    "collapsed": true
   },
   "outputs": [],
   "source": [
    "# c) save the whole model\n",
    "model.save_model(model_filename)"
   ]
  },
  {
   "cell_type": "code",
   "execution_count": null,
   "metadata": {},
   "outputs": [],
   "source": [
    "# d) plot the training history\n",
    "plt.figure()\n",
    "plt.loglog(model.control_training_history['loss'])\n",
    "plt.xlabel('iteration')\n",
    "plt.ylabel('loss')\n",
    "plt.grid(True, which=\"both\")\n",
    "plt.tight_layout()\n",
    "plt.show()\n",
    "plt.savefig('controller_complex_training.eps', format='eps', dpi=1000)"
   ]
  },
  {
   "cell_type": "code",
   "execution_count": null,
   "metadata": {},
   "outputs": [],
   "source": [
    "# e) plot the controlled waveguide power distribution\n",
    "for idx_wg in range(num_wg): # loop over input waveguide\n",
    "    plt.figure(figsize=[7.5, 3.5*num_wg])\n",
    "    test_power = model.predict_controlled_wg_power(Hamiltonian_sequence, idx_wg)\n",
    "    for idx_wg2 in range(2*num_wg): # loop over the distribution\n",
    "        plt.subplot(2*num_wg,1,idx_wg2+1)\n",
    "        plt.plot(time_range_control, powers_sequence[idx_wg][0,:][:,idx_wg2], label='ideal')\n",
    "        plt.plot(time_range_control, test_power[0,:,idx_wg2], '--', label='controlled')\n",
    "        plt.ylim([-0.1,1.1])\n",
    "        plt.legend(ncol=2)\n",
    "        plt.grid()\n",
    "    plt.show()\n",
    "    plt.savefig('controller_powers_%d.eps'%idx_wg, format='eps', dpi=1000)    "
   ]
  },
  {
   "cell_type": "code",
   "execution_count": null,
   "metadata": {},
   "outputs": [],
   "source": [
    "# e) plot the controlled output state infedility\n",
    "phi=[]\n",
    "psi=[]\n",
    "plt.figure()\n",
    "for idx_wg in range(num_wg): # loop over input waveguide\n",
    "    test_power = model.predict_controlled_wg_power(Hamiltonian_sequence, idx_wg)\n",
    "    phi.append( construct_state(test_power[0,:]) )\n",
    "    psi.append( construct_state(powers_sequence[idx_wg][0,:]) )\n",
    "phi = construct_unitary(phi)\n",
    "psi = construct_unitary(psi)\n",
    "fid = 1-gate_fidelity(phi,psi)\n",
    "plt.semilogy(time_range, fid)\n",
    "plt.grid()\n",
    "plt.show()\n",
    "plt.savefig('controller_complex_infidelity', format='eps', dpi=1000)    "
   ]
  },
  {
   "cell_type": "code",
   "execution_count": null,
   "metadata": {},
   "outputs": [],
   "source": [
    "# f) plot the control voltage\n",
    "control_voltage = model.predict_control_voltage(Hamiltonian_sequence)[0,:]\n",
    "plt.figure(figsize=[15, 4*num_wg])\n",
    "for idx_electrode in range(num_wg*2):\n",
    "    # plot the potential difference across each waveguide\n",
    "    plt.subplot(num_wg,2,idx_electrode+1)       \n",
    "    plt.plot(time_range_control, control_voltage[:,idx_electrode])\n",
    "    plt.ylim([-6,6])\n",
    "    plt.xlabel('t')\n",
    "    plt.ylabel(\"$V_%s(t)$\"%idx_electrode)\n",
    "    plt.grid()\n",
    "plt.tight_layout()\n",
    "plt.savefig('controller_complex_voltages.eps', format='eps', dpi=1000)"
   ]
  },
  {
   "cell_type": "code",
   "execution_count": null,
   "metadata": {
    "collapsed": true
   },
   "outputs": [],
   "source": []
  }
 ],
 "metadata": {
  "kernelspec": {
   "display_name": "Python 3",
   "language": "python",
   "name": "python3"
  },
  "language_info": {
   "codemirror_mode": {
    "name": "ipython",
    "version": 3
   },
   "file_extension": ".py",
   "mimetype": "text/x-python",
   "name": "python",
   "nbconvert_exporter": "python",
   "pygments_lexer": "ipython3",
   "version": "3.6.2"
  }
 },
 "nbformat": 4,
 "nbformat_minor": 2
}
